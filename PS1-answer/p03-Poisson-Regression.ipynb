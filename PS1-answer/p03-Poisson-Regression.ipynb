{
 "cells": [
  {
   "cell_type": "markdown",
   "metadata": {},
   "source": [
    "3.**[25 points] Poisson Regression**\n",
    "\n",
    "(a) We write Possion distribution as a function in exponential family:\n",
    "\\begin{align*}\n",
    "p(y;\\lambda) &= \\frac{e^{-\\lambda}\\lambda^y}{y!} \\\\\n",
    "             &= \\frac{1}{y!}\\exp{(y\\log {\\lambda} -\\lambda)}\n",
    "\\end{align*}\n",
    "Then \n",
    "$$\n",
    "\\left\\{  \n",
    "             \\begin{aligned}\n",
    "             T(y) = y \\\\\n",
    "             \\eta = \\log{\\lambda} \\\\\n",
    "             a(\\eta) = e^{\\eta} \\\\\n",
    "             b(y) = \\frac{1}{y!} \n",
    "             \\end{aligned}  \n",
    "\\right. \n",
    "$$"
   ]
  },
  {
   "cell_type": "markdown",
   "metadata": {},
   "source": [
    "(b) In this problem, **canonical response function** is:\n",
    "\\begin{align*}\n",
    "g(\\eta) &= \\mathbb{E}[y|x;\\lambda] \\\\\n",
    "        &= \\lambda \\\\\n",
    "        &= e^{\\eta} \\\\\n",
    "        &= e^{\\theta^Tx}\n",
    "\\end{align*}"
   ]
  },
  {
   "cell_type": "markdown",
   "metadata": {},
   "source": [
    "(c)\n",
    "\\begin{align*}\n",
    "l(\\theta) &= \\log{p(y^{(i)}|x^{(i)};\\theta)} \\\\\n",
    "          &= \\log{(\\frac{1}{y!}\\exp{(y\\log {\\lambda} -\\lambda)})} \\\\\n",
    "          &= -\\log{y^{(i)}}+\\theta^Tx^{(i)}y^{(i)}-e^{\\theta^Tx^{(i)}}\n",
    "\\end{align*}\n",
    "Then we take derivative:\n",
    "\\begin{align*}\n",
    "\\frac{\\partial l(\\theta)}{\\partial \\theta_j} &= x^{(i)}_j y^{(i)} - x^{(i)}_j e^{(\\theta^Tx)}\\\\\n",
    "                                             &= (y^{(i)} -  e^{(\\theta^Tx)}) x^{(i)}_j\n",
    "\\end{align*}\n",
    "Then \n",
    "\\begin{align*}\n",
    "\\theta_j &:= \\theta_j + \\alpha  \\frac{\\partial l(\\theta)}{\\partial \\theta_j} \\\\\n",
    "         &:= \\theta_j + \\alpha (y^{(i)} -  e^{(\\theta^Tx)}) x^{(i)}_j\n",
    "\\end{align*}"
   ]
  },
  {
   "cell_type": "markdown",
   "metadata": {},
   "source": [
    "(d)"
   ]
  },
  {
   "cell_type": "code",
   "execution_count": 22,
   "metadata": {},
   "outputs": [],
   "source": [
    "import matplotlib.pyplot as plt\n",
    "import numpy as np\n",
    "import src.util as util\n",
    "\n",
    "from src.linear_model import LinearModel"
   ]
  },
  {
   "cell_type": "markdown",
   "metadata": {},
   "source": [
    "First, define the class:"
   ]
  },
  {
   "cell_type": "code",
   "execution_count": 23,
   "metadata": {},
   "outputs": [],
   "source": [
    "class PoissonRegression(LinearModel):\n",
    "    \"\"\"Poisson Regression.\n",
    "\n",
    "    Example usage:\n",
    "        > clf = PoissonRegression(step_size=lr)\n",
    "        > clf.fit(x_train, y_train)\n",
    "        > clf.predict(x_eval)\n",
    "    \"\"\"\n",
    "\n",
    "    def h(self,theta,x):\n",
    "        return np.exp(x @ theta)\n",
    "    \n",
    "    def fit(self, x, y):\n",
    "        \"\"\"Run gradient ascent to maximize likelihood for Poisson regression.\n",
    "\n",
    "        Args:\n",
    "            x: Training example inputs. Shape (m, n).\n",
    "            y: Training example labels. Shape (m,).\n",
    "        \"\"\"\n",
    "        # *** START CODE HERE ***\n",
    "        def nextstep(theta):\n",
    "            return self.step_size /x.shape[0] * x.T @ (y-self.h(theta,x))\n",
    "\n",
    "        theta = np.zeros(x.shape[1])\n",
    "        tol = 1e-5\n",
    "        \n",
    "        # fp = np.sum(y-np.exp(theta @ x_train),1)\n",
    "\n",
    "        step = nextstep(theta)\n",
    "        count = 0\n",
    "        while np.linalg.norm(step,1) > tol:\n",
    "            theta += step\n",
    "            step = nextstep(theta)\n",
    "            count += 1\n",
    "        self.theta = theta\n",
    "        # for i in range(0,x.shape[0]):\n",
    "            \n",
    "        # *** END CODE HERE ***\n",
    "\n",
    "    def predict(self, x):\n",
    "        \"\"\"Make a prediction given inputs x.\n",
    "\n",
    "        Args:\n",
    "            x: Inputs of shape (m, n).\n",
    "\n",
    "        Returns:\n",
    "            Floating-point prediction for each input, shape (m,).\n",
    "        \"\"\"\n",
    "        # *** START CODE HERE ***\n",
    "        return self.h(self.theta,x)\n",
    "        # *** END CODE HERE ***"
   ]
  },
  {
   "cell_type": "markdown",
   "metadata": {},
   "source": [
    "Define `main` function:"
   ]
  },
  {
   "cell_type": "code",
   "execution_count": 24,
   "metadata": {},
   "outputs": [],
   "source": [
    "def main(lr, train_path, eval_path, pred_path):\n",
    "    \"\"\"Problem 3(d): Poisson regression with gradient ascent.\n",
    "\n",
    "    Args:\n",
    "        lr: Learning rate for gradient ascent.\n",
    "        train_path: Path to CSV file containing dataset for training.\n",
    "        eval_path: Path to CSV file containing dataset for evaluation.\n",
    "        pred_path: Path to save predictions.\n",
    "    \"\"\"\n",
    "    # Load training set\n",
    "    x_train, y_train = util.load_dataset(train_path, add_intercept=False)\n",
    "\n",
    "    # *** START CODE HERE ***\n",
    "    x_train = util.add_intercept(x_train)\n",
    "\n",
    "    clf = PoissonRegression(step_size=lr)\n",
    "    clf.fit(x_train,y_train)\n",
    "    y_train_pred = clf.predict(x_train)\n",
    "\n",
    "    x_eval, y_eval = util.load_dataset(eval_path, add_intercept=False)\n",
    "    x_eval = util.add_intercept(x_eval)\n",
    "    y_eval_pred = clf.predict(x_eval)\n",
    "    np.savetxt(pred_path, y_eval_pred)\n",
    "\n",
    "    plt.plot(y_eval,'go',label='label')\n",
    "    plt.plot(y_eval_pred,'rx',label='prediction')\n",
    "    plt.legend(loc='upper left')\n",
    "    plt.savefig(\"./output/p03d_pred.pdf\")\n",
    "\n",
    "    # Fit a Poisson Regression model\n",
    "    # Run on the validation set, and use np.savetxt to save outputs to pred_path\n",
    "    # *** END CODE HERE ***"
   ]
  },
  {
   "cell_type": "markdown",
   "metadata": {},
   "source": [
    "Run:"
   ]
  },
  {
   "cell_type": "code",
   "execution_count": 25,
   "metadata": {},
   "outputs": [
    {
     "data": {
      "image/png": "[encoded data removed]",
      "text/plain": [
       "<Figure size 432x288 with 1 Axes>"
      ]
     },
     "metadata": {
      "needs_background": "light"
     },
     "output_type": "display_data"
    }
   ],
   "source": [
    "lr=1e-7\n",
    "train_path='./data/ds4_train.csv'\n",
    "eval_path='./data/ds4_valid.csv'\n",
    "pred_path='./output/p03d_pred.txt'\n",
    "main(lr,train_path,eval_path, pred_path)"
   ]
  }
 ],
 "metadata": {
  "kernelspec": {
   "display_name": "Python 3.8.5 64-bit",
   "language": "python",
   "name": "python3"
  },
  "language_info": {
   "codemirror_mode": {
    "name": "ipython",
    "version": 3
   },
   "file_extension": ".py",
   "mimetype": "text/x-python",
   "name": "python",
   "nbconvert_exporter": "python",
   "pygments_lexer": "ipython3",
   "version": "3.8.5"
  },
  "orig_nbformat": 4,
  "vscode": {
   "interpreter": {
    "hash": "570feb405e2e27c949193ac68f46852414290d515b0ba6e5d90d076ed2284471"
   }
  }
 },
 "nbformat": 4,
 "nbformat_minor": 2
}

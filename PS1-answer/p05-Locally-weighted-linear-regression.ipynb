{
 "cells": [
  {
   "cell_type": "markdown",
   "metadata": {},
   "source": [
    "5.**[25 points] Locally weighted linear regression**"
   ]
  },
  {
   "cell_type": "markdown",
   "metadata": {},
   "source": [
    "(a) i.\n",
    "\\begin{equation*}\n",
    "  X = \\begin{bmatrix}\n",
    "       - (x^{(1)})^T - \\\\\n",
    "       \\vdots \\\\\n",
    "       - (x^{(m)})^T - \\\\\n",
    "       \\end{bmatrix}\n",
    "       \\in \\mathbb{R}^{m \\times n}\n",
    "  \\qquad\n",
    "  y = \\begin{bmatrix}\n",
    "       y^{(1)} \\\\\n",
    "       \\vdots \\\\\n",
    "       y^{(m)} \\\\\n",
    "       \\end{bmatrix}\n",
    "\\end{equation*}\n",
    "So \n",
    "\\begin{equation*}\n",
    "  X\\theta-y = \\begin{bmatrix}\n",
    "    \\theta^Tx^{(1)}-y^{(1)} \\\\\n",
    "    \\vdots \\\\\n",
    "    \\theta^Tx^{(m)}-y^{(m)} \\\\\n",
    "    \\end{bmatrix}\n",
    "  \\quad\n",
    "  \\Longrightarrow\n",
    "  \\quad\n",
    "  W = \\frac{1}{2} \\mathrm{diag} (w^{(i)}, \\dots , w^{(m)})\n",
    "\\end{equation*}\n",
    "\n",
    "ii. \n",
    "\\begin{align*}\n",
    "J(\\theta) &= (\\theta^TX^T-y^T)W(X\\theta-y) \\\\\n",
    "          &= \\theta^TX^TWX\\theta -\\theta^TX^TWy-y^TWX\\theta+y^TWy \\\\\n",
    "          &= \\theta^TX^TWX\\theta -2y^TWX\\theta+y^TWy\n",
    "\\end{align*}\n",
    "Take derivative w.r.t $\\theta$ and set it to $0$:\n",
    "\\begin{equation*}\n",
    "\\nabla_{\\theta} J(\\theta) = 2 X^TWX\\theta-2X^TWy = 0 \\ \\Longleftrightarrow \\ \\theta = (X^TWX)^{-1}X^TWy\n",
    "\\end{equation*}\n",
    "\n",
    "iii. The maximum likelihood $l(\\theta)$:\n",
    "\\begin{align*}\n",
    "l(\\theta) &= \\sum_{i=1}^m \\log{p(y^{(i)}|x^{(i)};\\theta)} \\\\\n",
    "          &= \\sum_{i=1}^m \\log{\\frac{1}{\\sqrt{(2\\pi)}\\sigma^{(i)}}}-\\sum_{i=1}^m \\frac{(y^{(i)}-\\theta^Tx^{(i)})^2}{2(\\sigma^{(i)})^2} \\\\\n",
    "\\end{align*}\n",
    "Then maximizing $l(\\theta)$ is equivalent to minimizing $\\sum_{i=1}^m \\frac{(y^{(i)}-\\theta^Tx^{(i)})^2}{2(\\sigma^{(i)})^2} = \\frac{1}{2} \\sum_{i=1}^m w^{(i)} (y^{(i)}-\\theta^Tx^{(i)})^2$,\n",
    "so $w^{(i)} = \\frac{1}{(\\sigma^{(i)})^2}$.\n"
   ]
  },
  {
   "cell_type": "markdown",
   "metadata": {},
   "source": [
    "(b)"
   ]
  },
  {
   "cell_type": "markdown",
   "metadata": {},
   "source": [
    "Define `LocallyWeightedLinearRegression`\n",
    "\n",
    "In this case, $h_\\theta(x) = \\theta^Tx$, and we want to find $\\theta$."
   ]
  },
  {
   "cell_type": "code",
   "execution_count": 9,
   "metadata": {},
   "outputs": [],
   "source": [
    "import matplotlib.pyplot as plt\n",
    "import numpy as np\n",
    "import src.util as util\n",
    "\n",
    "from src.linear_model import LinearModel\n",
    "class LocallyWeightedLinearRegression(LinearModel):\n",
    "    \"\"\"Locally Weighted Regression (LWR).\n",
    "\n",
    "    Example usage:\n",
    "        > clf = LocallyWeightedLinearRegression(tau)\n",
    "        > clf.fit(x_train, y_train)\n",
    "        > clf.predict(x_eval)\n",
    "    \"\"\"\n",
    "\n",
    "    def __init__(self, tau):\n",
    "        super(LocallyWeightedLinearRegression, self).__init__()\n",
    "        self.tau = tau\n",
    "        self.x = None\n",
    "        self.y = None\n",
    "\n",
    "    def fit(self, x, y):\n",
    "        \"\"\"Fit LWR by saving the training set.\n",
    "\n",
    "        \"\"\"\n",
    "        # *** START CODE HERE ***\n",
    "        self.x = x\n",
    "        self.y = y\n",
    "        # *** END CODE HERE ***\n",
    "\n",
    "    def predict(self, x):\n",
    "        \"\"\"Make predictions given inputs x.\n",
    "\n",
    "        Args:\n",
    "            x: Inputs of shape (m, n).\n",
    "\n",
    "        Returns:\n",
    "            Outputs of shape (m,).\n",
    "        \"\"\"\n",
    "        # *** START CODE HERE ***\n",
    "        m,n = x.shape\n",
    "        y_pred = np.zeros(m)\n",
    "        for i in range(m):\n",
    "            W = np.diag(np.exp(-np.linalg.norm(self.x-x[i],axis=1)**2/(2*self.tau*self.tau)))\n",
    "            y_pred[i] = x[i] @ np.linalg.inv(self.x.T @ W @ self.x) @ self.x.T @ W @ self.y\n",
    "\n",
    "        return y_pred\n",
    "\n",
    "        # *** END CODE HERE ***"
   ]
  },
  {
   "cell_type": "markdown",
   "metadata": {},
   "source": [
    "Define `main` and run:"
   ]
  },
  {
   "cell_type": "code",
   "execution_count": 10,
   "metadata": {},
   "outputs": [
    {
     "name": "stdout",
     "output_type": "stream",
     "text": [
      "MSE=0.3305312682137524\n"
     ]
    },
    {
     "data": {
      "image/png": "[encoded data removed]",
      "text/plain": [
       "<Figure size 432x288 with 1 Axes>"
      ]
     },
     "metadata": {
      "needs_background": "light"
     },
     "output_type": "display_data"
    }
   ],
   "source": [
    "def main(tau, train_path, eval_path):\n",
    "    \"\"\"Problem 5(b): Locally weighted regression (LWR)\n",
    "\n",
    "    Args:\n",
    "        tau: Bandwidth parameter for LWR.\n",
    "        train_path: Path to CSV file containing dataset for training.\n",
    "        eval_path: Path to CSV file containing dataset for evaluation.\n",
    "    \"\"\"\n",
    "    # Load training set\n",
    "    x_train, y_train = util.load_dataset(train_path, add_intercept=True)\n",
    "\n",
    "    # *** START CODE HERE ***\n",
    "    # Fit a LWR model\n",
    "    # Get MSE value on the validation set\n",
    "    # Plot validation predictions on top of training set\n",
    "    # No need to save predictions\n",
    "    # Plot data\n",
    "\n",
    "    lwr = LocallyWeightedLinearRegression(tau=0.5)\n",
    "    lwr.fit(x_train,y_train)\n",
    "    x_eval, y_eval = util.load_dataset(eval_path, add_intercept=True)\n",
    "    y_eval_pred = lwr.predict(x_eval)\n",
    "\n",
    "    MSE = np.mean((y_eval-y_eval_pred)*(y_eval-y_eval_pred))\n",
    "    print(f\"MSE={MSE}\")\n",
    "\n",
    "    plt.plot(x_train[:,-1], y_train, 'bx', label=\"training set\")\n",
    "    plt.plot(x_eval[:,-1], y_eval_pred, 'ro', label=\"validation set prediction\")\n",
    "    plt.legend(loc=\"upper left\")\n",
    "    plt.show()\n",
    "    # *** END CODE HERE ***\n",
    "if __name__ == \"__main__\":\n",
    "    tau=5e-1\n",
    "    train_path='./data/ds5_train.csv'\n",
    "    eval_path='./data/ds5_valid.csv'\n",
    "    main(tau,train_path,eval_path)"
   ]
  },
  {
   "cell_type": "markdown",
   "metadata": {},
   "source": [
    "This is underfitting."
   ]
  },
  {
   "cell_type": "markdown",
   "metadata": {},
   "source": [
    "(c) Define `main` and run:"
   ]
  },
  {
   "cell_type": "code",
   "execution_count": 11,
   "metadata": {},
   "outputs": [
    {
     "name": "stdout",
     "output_type": "stream",
     "text": [
      "0-th: MSE=0.018096163123598515\n",
      "1-th: MSE=0.01240007615046478\n",
      "2-th: MSE=0.024224589379800317\n",
      "3-th: MSE=0.3305312682137524\n",
      "4-th: MSE=0.40009594801808596\n",
      "5-th: MSE=0.4337439227232362\n",
      "The perfect tau is: 0.05\n"
     ]
    },
    {
     "data": {
      "image/png": "[encoded data removed]",
      "text/plain": [
       "<Figure size 432x288 with 1 Axes>"
      ]
     },
     "metadata": {
      "needs_background": "light"
     },
     "output_type": "display_data"
    }
   ],
   "source": [
    "def main(tau_values, train_path, valid_path, test_path, pred_path):\n",
    "    \"\"\"Problem 5(b): Tune the bandwidth paramater tau for LWR.\n",
    "\n",
    "    Args:\n",
    "        tau_values: List of tau values to try.\n",
    "        train_path: Path to CSV file containing training set.\n",
    "        valid_path: Path to CSV file containing validation set.\n",
    "        test_path: Path to CSV file containing test set.\n",
    "        pred_path: Path to save predictions.\n",
    "    \"\"\"\n",
    "    # Load training set\n",
    "    x_train, y_train = util.load_dataset(train_path, add_intercept=True)\n",
    "\n",
    "    # *** START CODE HERE ***\n",
    "    # Search tau_values for the best tau (lowest MSE on the validation set)\n",
    "    # Fit a LWR model with the best tau value\n",
    "    # Run on the test set to get the MSE value\n",
    "    # Save predictions to pred_path\n",
    "    # Plot data\n",
    "\n",
    "    x_eval, y_eval = util.load_dataset(valid_path, add_intercept=True)\n",
    "    MSE = np.zeros(len(tau_values))\n",
    "    for i,tau in enumerate(tau_values):\n",
    "        lwr = LocallyWeightedLinearRegression(tau)\n",
    "        lwr.fit(x_train,y_train)\n",
    "        y_eval_pred = lwr.predict(x_eval)\n",
    "        MSE[i] = np.mean((y_eval-y_eval_pred)*(y_eval-y_eval_pred))\n",
    "        print(f\"{i}-th: MSE={MSE[i]}\")\n",
    "    tau_perfect = tau_values[np.argmin(MSE)]\n",
    "    print(f\"The perfect tau is: {tau_perfect}\")\n",
    "\n",
    "    x_test, y_test = util.load_dataset(test_path, add_intercept=True)\n",
    "    lwr = LocallyWeightedLinearRegression(tau_perfect)\n",
    "    lwr.fit(x_train,y_train)\n",
    "    y_test_pred = lwr.predict(x_test)\n",
    "    np.savetxt(pred_path,y_test_pred)\n",
    "\n",
    "    plt.plot(x_train[:,-1], y_train, 'bx', label=\"training set\")\n",
    "    plt.plot(x_test[:,-1], y_test_pred, 'ro', label=\"test set prediction\")\n",
    "    plt.legend(loc=\"upper left\")\n",
    "    plt.show()\n",
    "    # *** END CODE HERE ***\n",
    "if __name__ == \"__main__\":\n",
    "    tau_values=[3e-2, 5e-2, 1e-1, 5e-1, 1e0, 1e1]\n",
    "    train_path='./data/ds5_train.csv'\n",
    "    valid_path='./data/ds5_valid.csv'\n",
    "    test_path='./data/ds5_test.csv'\n",
    "    pred_path='./output/p05c_pred.txt'\n",
    "    main(tau_values,train_path,valid_path,test_path,pred_path)"
   ]
  }
 ],
 "metadata": {
  "kernelspec": {
   "display_name": "Python 3.8.5 64-bit",
   "language": "python",
   "name": "python3"
  },
  "language_info": {
   "codemirror_mode": {
    "name": "ipython",
    "version": 3
   },
   "file_extension": ".py",
   "mimetype": "text/x-python",
   "name": "python",
   "nbconvert_exporter": "python",
   "pygments_lexer": "ipython3",
   "version": "3.8.5"
  },
  "orig_nbformat": 4,
  "vscode": {
   "interpreter": {
    "hash": "570feb405e2e27c949193ac68f46852414290d515b0ba6e5d90d076ed2284471"
   }
  }
 },
 "nbformat": 4,
 "nbformat_minor": 2
}
